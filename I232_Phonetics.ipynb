{
  "nbformat": 4,
  "nbformat_minor": 0,
  "metadata": {
    "colab": {
      "provenance": []
    },
    "kernelspec": {
      "name": "python3",
      "display_name": "Python 3"
    },
    "language_info": {
      "name": "python"
    }
  },
  "cells": [
    {
      "cell_type": "code",
      "source": [
        "!pip install pyttsx3 eng-to-ipa\n",
        "!apt install espeak ffmpeg libespeak-ng1\n",
        "\n",
        "import gradio as gr\n",
        "import pyttsx3\n",
        "from eng_to_ipa import convert\n",
        "import os\n",
        "import time\n",
        "\n",
        "def transcribe_to_ipa(text):\n",
        "    return convert(text)\n",
        "\n",
        "def text_to_speech(text):\n",
        "    engine = pyttsx3.init()\n",
        "    filename = f\"output_{int(time.time())}.mp3\"\n",
        "    engine.say(text)\n",
        "    engine.runAndWait()\n",
        "    engine.save_to_file(text, filename)\n",
        "    engine.runAndWait()\n",
        "    return filename\n",
        "\n",
        "def process_text(text):\n",
        "    ipa_result = transcribe_to_ipa(text)\n",
        "    audio_file = text_to_speech(text)\n",
        "    return ipa_result, audio_file\n",
        "\n",
        "iface = gr.Interface(\n",
        "    fn=process_text,\n",
        "    inputs=[gr.Textbox(label=\"Enter Text\")],\n",
        "    outputs=[gr.Textbox(label=\"IPA Transcription\"), gr.Audio(label=\"Generated Speech\")],\n",
        "    title=\"Fast Phonetic Transcription & Speech\",\n",
        "    description=\"Enter text, get IPA transcription and speech output instantly.\"\n",
        ")\n",
        "\n",
        "if __name__ == \"__main__\":\n",
        "    iface.launch()\n"
      ],
      "metadata": {
        "colab": {
          "base_uri": "https://localhost:8080/",
          "height": 802
        },
        "id": "QdV53dB0Jkxk",
        "outputId": "bd6bd9da-5ba0-48d5-a8d2-afb2d777329e"
      },
      "execution_count": 12,
      "outputs": [
        {
          "output_type": "stream",
          "name": "stdout",
          "text": [
            "Requirement already satisfied: pyttsx3 in /usr/local/lib/python3.11/dist-packages (2.98)\n",
            "Requirement already satisfied: eng-to-ipa in /usr/local/lib/python3.11/dist-packages (0.0.2)\n",
            "Reading package lists... Done\n",
            "Building dependency tree... Done\n",
            "Reading state information... Done\n",
            "espeak is already the newest version (1.48.15+dfsg-3).\n",
            "libespeak-ng1 is already the newest version (1.50+dfsg-10ubuntu0.1).\n",
            "ffmpeg is already the newest version (7:4.4.2-0ubuntu0.22.04.1).\n",
            "0 upgraded, 0 newly installed, 0 to remove and 29 not upgraded.\n",
            "Running Gradio in a Colab notebook requires sharing enabled. Automatically setting `share=True` (you can turn this off by setting `share=False` in `launch()` explicitly).\n",
            "\n",
            "Colab notebook detected. To show errors in colab notebook, set debug=True in launch()\n",
            "* Running on public URL: https://28e52de4c74b929c9e.gradio.live\n",
            "\n",
            "This share link expires in 72 hours. For free permanent hosting and GPU upgrades, run `gradio deploy` from the terminal in the working directory to deploy to Hugging Face Spaces (https://huggingface.co/spaces)\n"
          ]
        },
        {
          "output_type": "display_data",
          "data": {
            "text/plain": [
              "<IPython.core.display.HTML object>"
            ],
            "text/html": [
              "<div><iframe src=\"https://28e52de4c74b929c9e.gradio.live\" width=\"100%\" height=\"500\" allow=\"autoplay; camera; microphone; clipboard-read; clipboard-write;\" frameborder=\"0\" allowfullscreen></iframe></div>"
            ]
          },
          "metadata": {}
        }
      ]
    },
    {
      "cell_type": "code",
      "source": [],
      "metadata": {
        "id": "H7_1uL_OKOiK"
      },
      "execution_count": null,
      "outputs": []
    }
  ]
}